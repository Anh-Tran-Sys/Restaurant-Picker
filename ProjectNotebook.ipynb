{
 "nbformat": 4,
 "nbformat_minor": 2,
 "metadata": {
  "language_info": {
   "name": "python",
   "codemirror_mode": {
    "name": "ipython",
    "version": 3
   },
   "version": "3.7.4-final"
  },
  "orig_nbformat": 2,
  "file_extension": ".py",
  "mimetype": "text/x-python",
  "name": "python",
  "npconvert_exporter": "python",
  "pygments_lexer": "ipython3",
  "version": 3,
  "kernelspec": {
   "name": "python37432bita26318b06fbf422a96b0ee20522cf3b1",
   "display_name": "Python 3.7.4 32-bit"
  }
 },
 "cells": [
  {
   "cell_type": "markdown",
   "metadata": {},
   "source": [
    "#Description\n",
    "\n",
    "This project's goal is to select a restaurant using yelp's api according to what the user would enter. I was thinking this could be a great addition as a feature to maybe an existing chatbot, where you ask the bot where they recommend a restaurant you describe without throwing a huge list at you. I know I can be quite indecisive if I have a huge selection and I'm sure others do too. I hope you enjoy this program!"
   ]
  },
  {
   "cell_type": "markdown",
   "metadata": {},
   "source": [
    "#Learning aspect\n",
    "\n",
    "So at first, I was thinking this project would be a simple piece of cake, well was I wrong. Learning yelp's api and figuring out pandas and using dataframe to extract data proved more time consuming than I thought. I had multiple type errors converting from Series to Dataframe and that proved to be one of the most annoying tasks ever. Moreover, I had to rewrite the whole chatbot logic because this heavily depends on the question asked rather than the answer! Keywords being gathered doesnt really give a clue to the program what the user wants, but rather, only the previous question matter. Overall, I think I can say that I can use yelp's api quite well now and I can probably use other apis quite easily too!"
   ]
  },
  {
   "cell_type": "markdown",
   "metadata": {},
   "source": [
    "#Program\n",
    "\n",
    "Actualy codes here, run the cell below to start the bot. Type 'quit' whenever to exit. Enjoy! :)"
   ]
  },
  {
   "cell_type": "code",
   "execution_count": 1,
   "metadata": {},
   "outputs": [
    {
     "name": "stdout",
     "output_type": "stream",
     "text": "This program is designed to choose a restaurant for you!\nFirst let's get your information\nEnter your address\nOUTPUT: Now what would you like to eat?\nOUTPUT: Okay, that's a start, is there any other criteria you're looking for?\nOUTPUT: Now would you like for me to pick a random restaurant in the top 10, or would u prefer the highest rating or closest distance\nGreat! The restaurant you want is Champa Kitchen . On a scale of $ to $$$$, its price is $$ . The location is 5560 Monterey Rd , which is 2.5 miles away from your location. Champa Kitchen has a rating of  4.5 .\nOUTPUT: Would you like me to suggest a different restaurant?\nGreat! The restaurant you want is Khunying Thai . On a scale of $ to $$$$, its price is $$ . The location is 7048 Santa Teresa Blvd , which is 4.6 miles away from your location. Khunying Thai has a rating of  4.5 .\nOUTPUT: Would you like me to suggest a different restaurant?\nOUTPUT: Great, feel free to boot me up again if you want me to make another search!\n"
    }
   ],
   "source": [
    "from my_module import functions\n",
    "functions.have_a_chat()"
   ]
  },
  {
   "cell_type": "code",
   "execution_count": null,
   "metadata": {},
   "outputs": [],
   "source": []
  }
 ]
}